{
  "nbformat": 4,
  "nbformat_minor": 0,
  "metadata": {
    "colab": {
      "name": "First CNN Fashion MNIST.ipynb",
      "provenance": [],
      "collapsed_sections": []
    },
    "kernelspec": {
      "name": "python3",
      "display_name": "Python 3"
    },
    "accelerator": "GPU"
  },
  "cells": [
    {
      "cell_type": "markdown",
      "metadata": {
        "id": "z43f10MV-Lrs"
      },
      "source": [
        "##Building CNN - Convolutional Neural Network\n",
        "#Project Fashion-Classification - End to End\n",
        "\n",
        "Train Convolutional Neural Network on 60,000 Fashion-MNIST Images (data in NP array)\n",
        "\n",
        "Test Convolutional Neural Network on 10,000 Fashion-MNIST Images (data in NP array)"
      ]
    },
    {
      "cell_type": "markdown",
      "metadata": {
        "id": "iWAjmWHT-XO0"
      },
      "source": [
        "Import Libraries"
      ]
    },
    {
      "cell_type": "code",
      "metadata": {
        "id": "WP6bhc8m-NRm"
      },
      "source": [
        "import numpy as np\n",
        "import matplotlib.pyplot as plt\n",
        "import seaborn as sns\n",
        "\n",
        "import keras # to build Neural Network"
      ],
      "execution_count": null,
      "outputs": []
    },
    {
      "cell_type": "markdown",
      "metadata": {
        "id": "ucqIjjdh-rqF"
      },
      "source": [
        "Load Data"
      ]
    },
    {
      "cell_type": "code",
      "metadata": {
        "id": "sPc0swUj-mxM",
        "outputId": "4be77574-0066-4a68-d543-42c193deefe7",
        "colab": {
          "base_uri": "https://localhost:8080/",
          "height": 151
        }
      },
      "source": [
        "(X_train, y_train), (X_test, y_test) = keras.datasets.fashion_mnist.load_data() # load dataset from  keras"
      ],
      "execution_count": null,
      "outputs": [
        {
          "output_type": "stream",
          "text": [
            "Downloading data from https://storage.googleapis.com/tensorflow/tf-keras-datasets/train-labels-idx1-ubyte.gz\n",
            "32768/29515 [=================================] - 0s 0us/step\n",
            "Downloading data from https://storage.googleapis.com/tensorflow/tf-keras-datasets/train-images-idx3-ubyte.gz\n",
            "26427392/26421880 [==============================] - 0s 0us/step\n",
            "Downloading data from https://storage.googleapis.com/tensorflow/tf-keras-datasets/t10k-labels-idx1-ubyte.gz\n",
            "8192/5148 [===============================================] - 0s 0us/step\n",
            "Downloading data from https://storage.googleapis.com/tensorflow/tf-keras-datasets/t10k-images-idx3-ubyte.gz\n",
            "4423680/4422102 [==============================] - 0s 0us/step\n"
          ],
          "name": "stdout"
        }
      ]
    },
    {
      "cell_type": "code",
      "metadata": {
        "id": "wyFw4wm8-uCT",
        "outputId": "80c004e7-d8d4-44f8-8536-3332a3bc7b75",
        "colab": {
          "base_uri": "https://localhost:8080/",
          "height": 34
        }
      },
      "source": [
        "# Print shape of Data\n",
        "\n",
        "X_train.shape, y_train.shape"
      ],
      "execution_count": null,
      "outputs": [
        {
          "output_type": "execute_result",
          "data": {
            "text/plain": [
              "((60000, 28, 28), (60000,))"
            ]
          },
          "metadata": {
            "tags": []
          },
          "execution_count": 3
        }
      ]
    },
    {
      "cell_type": "code",
      "metadata": {
        "id": "_QBDiNYV_fbZ",
        "outputId": "5b1f5491-0993-4d93-f78a-cb05ab31df21",
        "colab": {
          "base_uri": "https://localhost:8080/",
          "height": 34
        }
      },
      "source": [
        "X_test.shape, y_test.shape"
      ],
      "execution_count": null,
      "outputs": [
        {
          "output_type": "execute_result",
          "data": {
            "text/plain": [
              "((10000, 28, 28), (10000,))"
            ]
          },
          "metadata": {
            "tags": []
          },
          "execution_count": 4
        }
      ]
    },
    {
      "cell_type": "code",
      "metadata": {
        "id": "ve4Jf9a2-2XY",
        "outputId": "ece9d58b-e60a-423a-834a-b8dc91e1bbe2",
        "colab": {
          "base_uri": "https://localhost:8080/",
          "height": 840
        }
      },
      "source": [
        "X_train   # image data in 3d numpy array shape 28x28 pixel"
      ],
      "execution_count": null,
      "outputs": [
        {
          "output_type": "execute_result",
          "data": {
            "text/plain": [
              "array([[[0, 0, 0, ..., 0, 0, 0],\n",
              "        [0, 0, 0, ..., 0, 0, 0],\n",
              "        [0, 0, 0, ..., 0, 0, 0],\n",
              "        ...,\n",
              "        [0, 0, 0, ..., 0, 0, 0],\n",
              "        [0, 0, 0, ..., 0, 0, 0],\n",
              "        [0, 0, 0, ..., 0, 0, 0]],\n",
              "\n",
              "       [[0, 0, 0, ..., 0, 0, 0],\n",
              "        [0, 0, 0, ..., 0, 0, 0],\n",
              "        [0, 0, 0, ..., 0, 0, 0],\n",
              "        ...,\n",
              "        [0, 0, 0, ..., 0, 0, 0],\n",
              "        [0, 0, 0, ..., 0, 0, 0],\n",
              "        [0, 0, 0, ..., 0, 0, 0]],\n",
              "\n",
              "       [[0, 0, 0, ..., 0, 0, 0],\n",
              "        [0, 0, 0, ..., 0, 0, 0],\n",
              "        [0, 0, 0, ..., 0, 0, 0],\n",
              "        ...,\n",
              "        [0, 0, 0, ..., 0, 0, 0],\n",
              "        [0, 0, 0, ..., 0, 0, 0],\n",
              "        [0, 0, 0, ..., 0, 0, 0]],\n",
              "\n",
              "       ...,\n",
              "\n",
              "       [[0, 0, 0, ..., 0, 0, 0],\n",
              "        [0, 0, 0, ..., 0, 0, 0],\n",
              "        [0, 0, 0, ..., 0, 0, 0],\n",
              "        ...,\n",
              "        [0, 0, 0, ..., 0, 0, 0],\n",
              "        [0, 0, 0, ..., 0, 0, 0],\n",
              "        [0, 0, 0, ..., 0, 0, 0]],\n",
              "\n",
              "       [[0, 0, 0, ..., 0, 0, 0],\n",
              "        [0, 0, 0, ..., 0, 0, 0],\n",
              "        [0, 0, 0, ..., 0, 0, 0],\n",
              "        ...,\n",
              "        [0, 0, 0, ..., 0, 0, 0],\n",
              "        [0, 0, 0, ..., 0, 0, 0],\n",
              "        [0, 0, 0, ..., 0, 0, 0]],\n",
              "\n",
              "       [[0, 0, 0, ..., 0, 0, 0],\n",
              "        [0, 0, 0, ..., 0, 0, 0],\n",
              "        [0, 0, 0, ..., 0, 0, 0],\n",
              "        ...,\n",
              "        [0, 0, 0, ..., 0, 0, 0],\n",
              "        [0, 0, 0, ..., 0, 0, 0],\n",
              "        [0, 0, 0, ..., 0, 0, 0]]], dtype=uint8)"
            ]
          },
          "metadata": {
            "tags": []
          },
          "execution_count": 5
        }
      ]
    },
    {
      "cell_type": "code",
      "metadata": {
        "id": "9DlHswjj-7rd",
        "outputId": "2d4bce01-7d6e-4683-9fbc-35c34c77348e",
        "colab": {
          "base_uri": "https://localhost:8080/",
          "height": 1000
        }
      },
      "source": [
        "X_train[0]  # image data in 2d numpy array shape 28x28 pixel at 0 th index"
      ],
      "execution_count": null,
      "outputs": [
        {
          "output_type": "execute_result",
          "data": {
            "text/plain": [
              "array([[  0,   0,   0,   0,   0,   0,   0,   0,   0,   0,   0,   0,   0,\n",
              "          0,   0,   0,   0,   0,   0,   0,   0,   0,   0,   0,   0,   0,\n",
              "          0,   0],\n",
              "       [  0,   0,   0,   0,   0,   0,   0,   0,   0,   0,   0,   0,   0,\n",
              "          0,   0,   0,   0,   0,   0,   0,   0,   0,   0,   0,   0,   0,\n",
              "          0,   0],\n",
              "       [  0,   0,   0,   0,   0,   0,   0,   0,   0,   0,   0,   0,   0,\n",
              "          0,   0,   0,   0,   0,   0,   0,   0,   0,   0,   0,   0,   0,\n",
              "          0,   0],\n",
              "       [  0,   0,   0,   0,   0,   0,   0,   0,   0,   0,   0,   0,   1,\n",
              "          0,   0,  13,  73,   0,   0,   1,   4,   0,   0,   0,   0,   1,\n",
              "          1,   0],\n",
              "       [  0,   0,   0,   0,   0,   0,   0,   0,   0,   0,   0,   0,   3,\n",
              "          0,  36, 136, 127,  62,  54,   0,   0,   0,   1,   3,   4,   0,\n",
              "          0,   3],\n",
              "       [  0,   0,   0,   0,   0,   0,   0,   0,   0,   0,   0,   0,   6,\n",
              "          0, 102, 204, 176, 134, 144, 123,  23,   0,   0,   0,   0,  12,\n",
              "         10,   0],\n",
              "       [  0,   0,   0,   0,   0,   0,   0,   0,   0,   0,   0,   0,   0,\n",
              "          0, 155, 236, 207, 178, 107, 156, 161, 109,  64,  23,  77, 130,\n",
              "         72,  15],\n",
              "       [  0,   0,   0,   0,   0,   0,   0,   0,   0,   0,   0,   1,   0,\n",
              "         69, 207, 223, 218, 216, 216, 163, 127, 121, 122, 146, 141,  88,\n",
              "        172,  66],\n",
              "       [  0,   0,   0,   0,   0,   0,   0,   0,   0,   1,   1,   1,   0,\n",
              "        200, 232, 232, 233, 229, 223, 223, 215, 213, 164, 127, 123, 196,\n",
              "        229,   0],\n",
              "       [  0,   0,   0,   0,   0,   0,   0,   0,   0,   0,   0,   0,   0,\n",
              "        183, 225, 216, 223, 228, 235, 227, 224, 222, 224, 221, 223, 245,\n",
              "        173,   0],\n",
              "       [  0,   0,   0,   0,   0,   0,   0,   0,   0,   0,   0,   0,   0,\n",
              "        193, 228, 218, 213, 198, 180, 212, 210, 211, 213, 223, 220, 243,\n",
              "        202,   0],\n",
              "       [  0,   0,   0,   0,   0,   0,   0,   0,   0,   1,   3,   0,  12,\n",
              "        219, 220, 212, 218, 192, 169, 227, 208, 218, 224, 212, 226, 197,\n",
              "        209,  52],\n",
              "       [  0,   0,   0,   0,   0,   0,   0,   0,   0,   0,   6,   0,  99,\n",
              "        244, 222, 220, 218, 203, 198, 221, 215, 213, 222, 220, 245, 119,\n",
              "        167,  56],\n",
              "       [  0,   0,   0,   0,   0,   0,   0,   0,   0,   4,   0,   0,  55,\n",
              "        236, 228, 230, 228, 240, 232, 213, 218, 223, 234, 217, 217, 209,\n",
              "         92,   0],\n",
              "       [  0,   0,   1,   4,   6,   7,   2,   0,   0,   0,   0,   0, 237,\n",
              "        226, 217, 223, 222, 219, 222, 221, 216, 223, 229, 215, 218, 255,\n",
              "         77,   0],\n",
              "       [  0,   3,   0,   0,   0,   0,   0,   0,   0,  62, 145, 204, 228,\n",
              "        207, 213, 221, 218, 208, 211, 218, 224, 223, 219, 215, 224, 244,\n",
              "        159,   0],\n",
              "       [  0,   0,   0,   0,  18,  44,  82, 107, 189, 228, 220, 222, 217,\n",
              "        226, 200, 205, 211, 230, 224, 234, 176, 188, 250, 248, 233, 238,\n",
              "        215,   0],\n",
              "       [  0,  57, 187, 208, 224, 221, 224, 208, 204, 214, 208, 209, 200,\n",
              "        159, 245, 193, 206, 223, 255, 255, 221, 234, 221, 211, 220, 232,\n",
              "        246,   0],\n",
              "       [  3, 202, 228, 224, 221, 211, 211, 214, 205, 205, 205, 220, 240,\n",
              "         80, 150, 255, 229, 221, 188, 154, 191, 210, 204, 209, 222, 228,\n",
              "        225,   0],\n",
              "       [ 98, 233, 198, 210, 222, 229, 229, 234, 249, 220, 194, 215, 217,\n",
              "        241,  65,  73, 106, 117, 168, 219, 221, 215, 217, 223, 223, 224,\n",
              "        229,  29],\n",
              "       [ 75, 204, 212, 204, 193, 205, 211, 225, 216, 185, 197, 206, 198,\n",
              "        213, 240, 195, 227, 245, 239, 223, 218, 212, 209, 222, 220, 221,\n",
              "        230,  67],\n",
              "       [ 48, 203, 183, 194, 213, 197, 185, 190, 194, 192, 202, 214, 219,\n",
              "        221, 220, 236, 225, 216, 199, 206, 186, 181, 177, 172, 181, 205,\n",
              "        206, 115],\n",
              "       [  0, 122, 219, 193, 179, 171, 183, 196, 204, 210, 213, 207, 211,\n",
              "        210, 200, 196, 194, 191, 195, 191, 198, 192, 176, 156, 167, 177,\n",
              "        210,  92],\n",
              "       [  0,   0,  74, 189, 212, 191, 175, 172, 175, 181, 185, 188, 189,\n",
              "        188, 193, 198, 204, 209, 210, 210, 211, 188, 188, 194, 192, 216,\n",
              "        170,   0],\n",
              "       [  2,   0,   0,   0,  66, 200, 222, 237, 239, 242, 246, 243, 244,\n",
              "        221, 220, 193, 191, 179, 182, 182, 181, 176, 166, 168,  99,  58,\n",
              "          0,   0],\n",
              "       [  0,   0,   0,   0,   0,   0,   0,  40,  61,  44,  72,  41,  35,\n",
              "          0,   0,   0,   0,   0,   0,   0,   0,   0,   0,   0,   0,   0,\n",
              "          0,   0],\n",
              "       [  0,   0,   0,   0,   0,   0,   0,   0,   0,   0,   0,   0,   0,\n",
              "          0,   0,   0,   0,   0,   0,   0,   0,   0,   0,   0,   0,   0,\n",
              "          0,   0],\n",
              "       [  0,   0,   0,   0,   0,   0,   0,   0,   0,   0,   0,   0,   0,\n",
              "          0,   0,   0,   0,   0,   0,   0,   0,   0,   0,   0,   0,   0,\n",
              "          0,   0]], dtype=uint8)"
            ]
          },
          "metadata": {
            "tags": []
          },
          "execution_count": 6
        }
      ]
    },
    {
      "cell_type": "code",
      "metadata": {
        "id": "WlX0uLad_4w8",
        "outputId": "c909c5b4-e494-4aa3-fb62-b57651bb9b16",
        "colab": {
          "base_uri": "https://localhost:8080/",
          "height": 34
        }
      },
      "source": [
        "print(y_train[0],y_train[234])  # at 0 th index we have number 9 which corresponds to 'Ankle boot ' and at 234 th index we have 2-Pullover"
      ],
      "execution_count": null,
      "outputs": [
        {
          "output_type": "stream",
          "text": [
            "9 2\n"
          ],
          "name": "stdout"
        }
      ]
    },
    {
      "cell_type": "code",
      "metadata": {
        "id": "PoTqjq5eAP0t",
        "outputId": "b8f0e360-3aac-4e28-bdd6-ccf0e7b793f8",
        "colab": {
          "base_uri": "https://localhost:8080/",
          "height": 35
        }
      },
      "source": [
        "class_labels = [\"T-shirt/top\",\"Trouser\",\"Pullover\",\"Dress\",\"Coat\",\"Sandal\",\"Shirt\",\"Sneaker\",\"Bag\",\"Ankle boot\"]\n",
        "\n",
        "''' 0 => T-shirt/top\n",
        "\n",
        "1 => Trouser\n",
        "\n",
        "2 => Pullover\n",
        "\n",
        "3 => Dress\n",
        "\n",
        "4 => Coat\n",
        "\n",
        "5 => Sandal\n",
        "\n",
        "6 => Shirt\n",
        "\n",
        "7 => Sneaker\n",
        "\n",
        "8 => Bag\n",
        "\n",
        "9 => Ankle boot '''"
      ],
      "execution_count": null,
      "outputs": [
        {
          "output_type": "execute_result",
          "data": {
            "application/vnd.google.colaboratory.intrinsic+json": {
              "type": "string"
            },
            "text/plain": [
              "' 0 => T-shirt/top\\n\\n1 => Trouser\\n\\n2 => Pullover\\n\\n3 => Dress\\n\\n4 => Coat\\n\\n5 => Sandal\\n\\n6 => Shirt\\n\\n7 => Sneaker\\n\\n8 => Bag\\n\\n9 => Ankle boot '"
            ]
          },
          "metadata": {
            "tags": []
          },
          "execution_count": 8
        }
      ]
    },
    {
      "cell_type": "markdown",
      "metadata": {
        "id": "bfuYue-GCnaV"
      },
      "source": [
        "##Show image"
      ]
    },
    {
      "cell_type": "code",
      "metadata": {
        "id": "I6dzOQ-PBIU1",
        "outputId": "e47bb129-fa18-401f-a6ec-ab7cd96bb7c6",
        "colab": {
          "base_uri": "https://localhost:8080/",
          "height": 282
        }
      },
      "source": [
        "plt.imshow(X_train[0], cmap='Greys') # At the 0th index we have boot(shoe)"
      ],
      "execution_count": null,
      "outputs": [
        {
          "output_type": "execute_result",
          "data": {
            "text/plain": [
              "<matplotlib.image.AxesImage at 0x7fc358202ac8>"
            ]
          },
          "metadata": {
            "tags": []
          },
          "execution_count": 9
        },
        {
          "output_type": "display_data",
          "data": {
            "image/png": "[encoded data removed]",
            "text/plain": [
              "<Figure size 432x288 with 1 Axes>"
            ]
          },
          "metadata": {
            "tags": [],
            "needs_background": "light"
          }
        }
      ]
    },
    {
      "cell_type": "code",
      "metadata": {
        "id": "MgsQ3seDCgo-",
        "outputId": "15540e25-7772-41b4-8371-525fa6972417",
        "colab": {
          "base_uri": "https://localhost:8080/",
          "height": 282
        }
      },
      "source": [
        "plt.imshow(X_train[234], cmap='Greys') # pullover"
      ],
      "execution_count": null,
      "outputs": [
        {
          "output_type": "execute_result",
          "data": {
            "text/plain": [
              "<matplotlib.image.AxesImage at 0x7fc357cd1e10>"
            ]
          },
          "metadata": {
            "tags": []
          },
          "execution_count": 10
        },
        {
          "output_type": "display_data",
          "data": {
            "image/png": "[encoded data removed]",
            "text/plain": [
              "<Figure size 432x288 with 1 Axes>"
            ]
          },
          "metadata": {
            "tags": [],
            "needs_background": "light"
          }
        }
      ]
    },
    {
      "cell_type": "code",
      "metadata": {
        "id": "P-LLpvXtC060",
        "outputId": "f2a418ed-0633-477b-e81f-618a48fe1ded",
        "colab": {
          "base_uri": "https://localhost:8080/",
          "height": 917
        }
      },
      "source": [
        "plt.figure(figsize=(16,16))\n",
        "\n",
        "j=1\n",
        "for i in np.random.randint(0, 1000, 25):\n",
        "  plt.subplot(5,5,j); j+=1\n",
        "  plt.imshow(X_train[i], cmap=\"Greys\")\n",
        "  plt.axis('off') # off the axis\n",
        "  plt.title('{} / {}'.format(class_labels[y_train[i]], y_train[i]))\n",
        "\n"
      ],
      "execution_count": null,
      "outputs": [
        {
          "output_type": "display_data",
          "data": {
            "image/png": "[encoded data removed]",
            "text/plain": [
              "<Figure size 1152x1152 with 25 Axes>"
            ]
          },
          "metadata": {
            "tags": [],
            "needs_background": "light"
          }
        }
      ]
    },
    {
      "cell_type": "markdown",
      "metadata": {
        "id": "JwbuYvoVDu3p"
      },
      "source": [
        "##Change Dimension fro 3d to 4d for input to CNN"
      ]
    },
    {
      "cell_type": "code",
      "metadata": {
        "id": "Hz-uUO2WEgO0",
        "outputId": "43e66e1a-1a9a-4bed-cca3-c6e0040627b0",
        "colab": {
          "base_uri": "https://localhost:8080/",
          "height": 34
        }
      },
      "source": [
        "print(X_train.shape,X_test.shape)"
      ],
      "execution_count": null,
      "outputs": [
        {
          "output_type": "stream",
          "text": [
            "(60000, 28, 28) (10000, 28, 28)\n"
          ],
          "name": "stdout"
        }
      ]
    },
    {
      "cell_type": "code",
      "metadata": {
        "id": "a7asOCKaEKtH",
        "outputId": "d83b2653-c692-4c2b-ee86-4e0d8af6f705",
        "colab": {
          "base_uri": "https://localhost:8080/",
          "height": 34
        }
      },
      "source": [
        "print(X_train.ndim,X_test.ndim)"
      ],
      "execution_count": null,
      "outputs": [
        {
          "output_type": "stream",
          "text": [
            "3 3\n"
          ],
          "name": "stdout"
        }
      ]
    },
    {
      "cell_type": "code",
      "metadata": {
        "id": "JPVga-kIEaci"
      },
      "source": [
        "# expected conv2d_input to have 4 dimensions, but got array with shape (28, 28, 1)\n",
        "# so we have increase the dimention 3 to 4\n",
        "X_train = np.expand_dims(X_train, -1)\n",
        "X_test = np.expand_dims(X_test, -1)\n",
        "\n",
        "# ref: https://numpy.org/doc/stable/reference/generated/numpy.expand_dims.html"
      ],
      "execution_count": null,
      "outputs": []
    },
    {
      "cell_type": "code",
      "metadata": {
        "id": "BfP2GZzDE02v",
        "outputId": "ffefeb17-634a-4b7c-f3cf-4dccb4d97547",
        "colab": {
          "base_uri": "https://localhost:8080/",
          "height": 34
        }
      },
      "source": [
        "print(X_train.shape,X_test.shape)"
      ],
      "execution_count": null,
      "outputs": [
        {
          "output_type": "stream",
          "text": [
            "(60000, 28, 28, 1) (10000, 28, 28, 1)\n"
          ],
          "name": "stdout"
        }
      ]
    },
    {
      "cell_type": "code",
      "metadata": {
        "id": "kblWiK-NFBQf",
        "outputId": "e9d8a773-da3e-4dfa-c712-c78c2bce1734",
        "colab": {
          "base_uri": "https://localhost:8080/",
          "height": 34
        }
      },
      "source": [
        "print(X_train.ndim,X_test.ndim)  # so we convered 3d to 4d for CNN"
      ],
      "execution_count": null,
      "outputs": [
        {
          "output_type": "stream",
          "text": [
            "4 4\n"
          ],
          "name": "stdout"
        }
      ]
    },
    {
      "cell_type": "markdown",
      "metadata": {
        "id": "CcxoknsBFNS5"
      },
      "source": [
        "#Feature Scaling"
      ]
    },
    {
      "cell_type": "code",
      "metadata": {
        "id": "vDg-g6M0FDvI"
      },
      "source": [
        "X_train = X_train/255\n",
        "X_test = X_test/255\n",
        "\n",
        "#NORMALIZATION BETWEEN 0 TO 1"
      ],
      "execution_count": null,
      "outputs": []
    },
    {
      "cell_type": "code",
      "metadata": {
        "id": "tee6eP24F21J",
        "outputId": "9b5bb7a9-29a0-49ae-93a4-7c67aae6a0f3",
        "colab": {
          "base_uri": "https://localhost:8080/",
          "height": 1000
        }
      },
      "source": [
        "X_train[0]"
      ],
      "execution_count": null,
      "outputs": [
        {
          "output_type": "execute_result",
          "data": {
            "text/plain": [
              "array([[[0.        ],\n",
              "        [0.        ],\n",
              "        [0.        ],\n",
              "        [0.        ],\n",
              "        [0.        ],\n",
              "        [0.        ],\n",
              "        [0.        ],\n",
              "        [0.        ],\n",
              "        [0.        ],\n",
              "        [0.        ],\n",
              "        [0.        ],\n",
              "        [0.        ],\n",
              "        [0.        ],\n",
              "        [0.        ],\n",
              "        [0.        ],\n",
              "        [0.        ],\n",
              "        [0.        ],\n",
              "        [0.        ],\n",
              "        [0.        ],\n",
              "        [0.        ],\n",
              "        [0.        ],\n",
              "        [0.        ],\n",
              "        [0.        ],\n",
              "        [0.        ],\n",
              "        [0.        ],\n",
              "        [0.        ],\n",
              "        [0.        ],\n",
              "        [0.        ]],\n",
              "\n",
              "       [[0.        ],\n",
              "        [0.        ],\n",
              "        [0.        ],\n",
              "        [0.        ],\n",
              "        [0.        ],\n",
              "        [0.        ],\n",
              "        [0.        ],\n",
              "        [0.        ],\n",
              "        [0.        ],\n",
              "        [0.        ],\n",
              "        [0.        ],\n",
              "        [0.        ],\n",
              "        [0.        ],\n",
              "        [0.        ],\n",
              "        [0.        ],\n",
              "        [0.        ],\n",
              "        [0.        ],\n",
              "        [0.        ],\n",
              "        [0.        ],\n",
              "        [0.        ],\n",
              "        [0.        ],\n",
              "        [0.        ],\n",
              "        [0.        ],\n",
              "        [0.        ],\n",
              "        [0.        ],\n",
              "        [0.        ],\n",
              "        [0.        ],\n",
              "        [0.        ]],\n",
              "\n",
              "       [[0.        ],\n",
              "        [0.        ],\n",
              "        [0.        ],\n",
              "        [0.        ],\n",
              "        [0.        ],\n",
              "        [0.        ],\n",
              "        [0.        ],\n",
              "        [0.        ],\n",
              "        [0.        ],\n",
              "        [0.        ],\n",
              "        [0.        ],\n",
              "        [0.        ],\n",
              "        [0.        ],\n",
              "        [0.        ],\n",
              "        [0.        ],\n",
              "        [0.        ],\n",
              "        [0.        ],\n",
              "        [0.        ],\n",
              "        [0.        ],\n",
              "        [0.        ],\n",
              "        [0.        ],\n",
              "        [0.        ],\n",
              "        [0.        ],\n",
              "        [0.        ],\n",
              "        [0.        ],\n",
              "        [0.        ],\n",
              "        [0.        ],\n",
              "        [0.        ]],\n",
              "\n",
              "       [[0.        ],\n",
              "        [0.        ],\n",
              "        [0.        ],\n",
              "        [0.        ],\n",
              "        [0.        ],\n",
              "        [0.        ],\n",
              "        [0.        ],\n",
              "        [0.        ],\n",
              "        [0.        ],\n",
              "        [0.        ],\n",
              "        [0.        ],\n",
              "        [0.        ],\n",
              "        [0.00392157],\n",
              "        [0.        ],\n",
              "        [0.        ],\n",
              "        [0.05098039],\n",
              "        [0.28627451],\n",
              "        [0.        ],\n",
              "        [0.        ],\n",
              "        [0.00392157],\n",
              "        [0.01568627],\n",
              "        [0.        ],\n",
              "        [0.        ],\n",
              "        [0.        ],\n",
              "        [0.        ],\n",
              "        [0.00392157],\n",
              "        [0.00392157],\n",
              "        [0.        ]],\n",
              "\n",
              "       [[0.        ],\n",
              "        [0.        ],\n",
              "        [0.        ],\n",
              "        [0.        ],\n",
              "        [0.        ],\n",
              "        [0.        ],\n",
              "        [0.        ],\n",
              "        [0.        ],\n",
              "        [0.        ],\n",
              "        [0.        ],\n",
              "        [0.        ],\n",
              "        [0.        ],\n",
              "        [0.01176471],\n",
              "        [0.        ],\n",
              "        [0.14117647],\n",
              "        [0.53333333],\n",
              "        [0.49803922],\n",
              "        [0.24313725],\n",
              "        [0.21176471],\n",
              "        [0.        ],\n",
              "        [0.        ],\n",
              "        [0.        ],\n",
              "        [0.00392157],\n",
              "        [0.01176471],\n",
              "        [0.01568627],\n",
              "        [0.        ],\n",
              "        [0.        ],\n",
              "        [0.01176471]],\n",
              "\n",
              "       [[0.        ],\n",
              "        [0.        ],\n",
              "        [0.        ],\n",
              "        [0.        ],\n",
              "        [0.        ],\n",
              "        [0.        ],\n",
              "        [0.        ],\n",
              "        [0.        ],\n",
              "        [0.        ],\n",
              "        [0.        ],\n",
              "        [0.        ],\n",
              "        [0.        ],\n",
              "        [0.02352941],\n",
              "        [0.        ],\n",
              "        [0.4       ],\n",
              "        [0.8       ],\n",
              "        [0.69019608],\n",
              "        [0.5254902 ],\n",
              "        [0.56470588],\n",
              "        [0.48235294],\n",
              "        [0.09019608],\n",
              "        [0.        ],\n",
              "        [0.        ],\n",
              "        [0.        ],\n",
              "        [0.        ],\n",
              "        [0.04705882],\n",
              "        [0.03921569],\n",
              "        [0.        ]],\n",
              "\n",
              "       [[0.        ],\n",
              "        [0.        ],\n",
              "        [0.        ],\n",
              "        [0.        ],\n",
              "        [0.        ],\n",
              "        [0.        ],\n",
              "        [0.        ],\n",
              "        [0.        ],\n",
              "        [0.        ],\n",
              "        [0.        ],\n",
              "        [0.        ],\n",
              "        [0.        ],\n",
              "        [0.        ],\n",
              "        [0.        ],\n",
              "        [0.60784314],\n",
              "        [0.9254902 ],\n",
              "        [0.81176471],\n",
              "        [0.69803922],\n",
              "        [0.41960784],\n",
              "        [0.61176471],\n",
              "        [0.63137255],\n",
              "        [0.42745098],\n",
              "        [0.25098039],\n",
              "        [0.09019608],\n",
              "        [0.30196078],\n",
              "        [0.50980392],\n",
              "        [0.28235294],\n",
              "        [0.05882353]],\n",
              "\n",
              "       [[0.        ],\n",
              "        [0.        ],\n",
              "        [0.        ],\n",
              "        [0.        ],\n",
              "        [0.        ],\n",
              "        [0.        ],\n",
              "        [0.        ],\n",
              "        [0.        ],\n",
              "        [0.        ],\n",
              "        [0.        ],\n",
              "        [0.        ],\n",
              "        [0.00392157],\n",
              "        [0.        ],\n",
              "        [0.27058824],\n",
              "        [0.81176471],\n",
              "        [0.8745098 ],\n",
              "        [0.85490196],\n",
              "        [0.84705882],\n",
              "        [0.84705882],\n",
              "        [0.63921569],\n",
              "        [0.49803922],\n",
              "        [0.4745098 ],\n",
              "        [0.47843137],\n",
              "        [0.57254902],\n",
              "        [0.55294118],\n",
              "        [0.34509804],\n",
              "        [0.6745098 ],\n",
              "        [0.25882353]],\n",
              "\n",
              "       [[0.        ],\n",
              "        [0.        ],\n",
              "        [0.        ],\n",
              "        [0.        ],\n",
              "        [0.        ],\n",
              "        [0.        ],\n",
              "        [0.        ],\n",
              "        [0.        ],\n",
              "        [0.        ],\n",
              "        [0.00392157],\n",
              "        [0.00392157],\n",
              "        [0.00392157],\n",
              "        [0.        ],\n",
              "        [0.78431373],\n",
              "        [0.90980392],\n",
              "        [0.90980392],\n",
              "        [0.91372549],\n",
              "        [0.89803922],\n",
              "        [0.8745098 ],\n",
              "        [0.8745098 ],\n",
              "        [0.84313725],\n",
              "        [0.83529412],\n",
              "        [0.64313725],\n",
              "        [0.49803922],\n",
              "        [0.48235294],\n",
              "        [0.76862745],\n",
              "        [0.89803922],\n",
              "        [0.        ]],\n",
              "\n",
              "       [[0.        ],\n",
              "        [0.        ],\n",
              "        [0.        ],\n",
              "        [0.        ],\n",
              "        [0.        ],\n",
              "        [0.        ],\n",
              "        [0.        ],\n",
              "        [0.        ],\n",
              "        [0.        ],\n",
              "        [0.        ],\n",
              "        [0.        ],\n",
              "        [0.        ],\n",
              "        [0.        ],\n",
              "        [0.71764706],\n",
              "        [0.88235294],\n",
              "        [0.84705882],\n",
              "        [0.8745098 ],\n",
              "        [0.89411765],\n",
              "        [0.92156863],\n",
              "        [0.89019608],\n",
              "        [0.87843137],\n",
              "        [0.87058824],\n",
              "        [0.87843137],\n",
              "        [0.86666667],\n",
              "        [0.8745098 ],\n",
              "        [0.96078431],\n",
              "        [0.67843137],\n",
              "        [0.        ]],\n",
              "\n",
              "       [[0.        ],\n",
              "        [0.        ],\n",
              "        [0.        ],\n",
              "        [0.        ],\n",
              "        [0.        ],\n",
              "        [0.        ],\n",
              "        [0.        ],\n",
              "        [0.        ],\n",
              "        [0.        ],\n",
              "        [0.        ],\n",
              "        [0.        ],\n",
              "        [0.        ],\n",
              "        [0.        ],\n",
              "        [0.75686275],\n",
              "        [0.89411765],\n",
              "        [0.85490196],\n",
              "        [0.83529412],\n",
              "        [0.77647059],\n",
              "        [0.70588235],\n",
              "        [0.83137255],\n",
              "        [0.82352941],\n",
              "        [0.82745098],\n",
              "        [0.83529412],\n",
              "        [0.8745098 ],\n",
              "        [0.8627451 ],\n",
              "        [0.95294118],\n",
              "        [0.79215686],\n",
              "        [0.        ]],\n",
              "\n",
              "       [[0.        ],\n",
              "        [0.        ],\n",
              "        [0.        ],\n",
              "        [0.        ],\n",
              "        [0.        ],\n",
              "        [0.        ],\n",
              "        [0.        ],\n",
              "        [0.        ],\n",
              "        [0.        ],\n",
              "        [0.00392157],\n",
              "        [0.01176471],\n",
              "        [0.        ],\n",
              "        [0.04705882],\n",
              "        [0.85882353],\n",
              "        [0.8627451 ],\n",
              "        [0.83137255],\n",
              "        [0.85490196],\n",
              "        [0.75294118],\n",
              "        [0.6627451 ],\n",
              "        [0.89019608],\n",
              "        [0.81568627],\n",
              "        [0.85490196],\n",
              "        [0.87843137],\n",
              "        [0.83137255],\n",
              "        [0.88627451],\n",
              "        [0.77254902],\n",
              "        [0.81960784],\n",
              "        [0.20392157]],\n",
              "\n",
              "       [[0.        ],\n",
              "        [0.        ],\n",
              "        [0.        ],\n",
              "        [0.        ],\n",
              "        [0.        ],\n",
              "        [0.        ],\n",
              "        [0.        ],\n",
              "        [0.        ],\n",
              "        [0.        ],\n",
              "        [0.        ],\n",
              "        [0.02352941],\n",
              "        [0.        ],\n",
              "        [0.38823529],\n",
              "        [0.95686275],\n",
              "        [0.87058824],\n",
              "        [0.8627451 ],\n",
              "        [0.85490196],\n",
              "        [0.79607843],\n",
              "        [0.77647059],\n",
              "        [0.86666667],\n",
              "        [0.84313725],\n",
              "        [0.83529412],\n",
              "        [0.87058824],\n",
              "        [0.8627451 ],\n",
              "        [0.96078431],\n",
              "        [0.46666667],\n",
              "        [0.65490196],\n",
              "        [0.21960784]],\n",
              "\n",
              "       [[0.        ],\n",
              "        [0.        ],\n",
              "        [0.        ],\n",
              "        [0.        ],\n",
              "        [0.        ],\n",
              "        [0.        ],\n",
              "        [0.        ],\n",
              "        [0.        ],\n",
              "        [0.        ],\n",
              "        [0.01568627],\n",
              "        [0.        ],\n",
              "        [0.        ],\n",
              "        [0.21568627],\n",
              "        [0.9254902 ],\n",
              "        [0.89411765],\n",
              "        [0.90196078],\n",
              "        [0.89411765],\n",
              "        [0.94117647],\n",
              "        [0.90980392],\n",
              "        [0.83529412],\n",
              "        [0.85490196],\n",
              "        [0.8745098 ],\n",
              "        [0.91764706],\n",
              "        [0.85098039],\n",
              "        [0.85098039],\n",
              "        [0.81960784],\n",
              "        [0.36078431],\n",
              "        [0.        ]],\n",
              "\n",
              "       [[0.        ],\n",
              "        [0.        ],\n",
              "        [0.00392157],\n",
              "        [0.01568627],\n",
              "        [0.02352941],\n",
              "        [0.02745098],\n",
              "        [0.00784314],\n",
              "        [0.        ],\n",
              "        [0.        ],\n",
              "        [0.        ],\n",
              "        [0.        ],\n",
              "        [0.        ],\n",
              "        [0.92941176],\n",
              "        [0.88627451],\n",
              "        [0.85098039],\n",
              "        [0.8745098 ],\n",
              "        [0.87058824],\n",
              "        [0.85882353],\n",
              "        [0.87058824],\n",
              "        [0.86666667],\n",
              "        [0.84705882],\n",
              "        [0.8745098 ],\n",
              "        [0.89803922],\n",
              "        [0.84313725],\n",
              "        [0.85490196],\n",
              "        [1.        ],\n",
              "        [0.30196078],\n",
              "        [0.        ]],\n",
              "\n",
              "       [[0.        ],\n",
              "        [0.01176471],\n",
              "        [0.        ],\n",
              "        [0.        ],\n",
              "        [0.        ],\n",
              "        [0.        ],\n",
              "        [0.        ],\n",
              "        [0.        ],\n",
              "        [0.        ],\n",
              "        [0.24313725],\n",
              "        [0.56862745],\n",
              "        [0.8       ],\n",
              "        [0.89411765],\n",
              "        [0.81176471],\n",
              "        [0.83529412],\n",
              "        [0.86666667],\n",
              "        [0.85490196],\n",
              "        [0.81568627],\n",
              "        [0.82745098],\n",
              "        [0.85490196],\n",
              "        [0.87843137],\n",
              "        [0.8745098 ],\n",
              "        [0.85882353],\n",
              "        [0.84313725],\n",
              "        [0.87843137],\n",
              "        [0.95686275],\n",
              "        [0.62352941],\n",
              "        [0.        ]],\n",
              "\n",
              "       [[0.        ],\n",
              "        [0.        ],\n",
              "        [0.        ],\n",
              "        [0.        ],\n",
              "        [0.07058824],\n",
              "        [0.17254902],\n",
              "        [0.32156863],\n",
              "        [0.41960784],\n",
              "        [0.74117647],\n",
              "        [0.89411765],\n",
              "        [0.8627451 ],\n",
              "        [0.87058824],\n",
              "        [0.85098039],\n",
              "        [0.88627451],\n",
              "        [0.78431373],\n",
              "        [0.80392157],\n",
              "        [0.82745098],\n",
              "        [0.90196078],\n",
              "        [0.87843137],\n",
              "        [0.91764706],\n",
              "        [0.69019608],\n",
              "        [0.7372549 ],\n",
              "        [0.98039216],\n",
              "        [0.97254902],\n",
              "        [0.91372549],\n",
              "        [0.93333333],\n",
              "        [0.84313725],\n",
              "        [0.        ]],\n",
              "\n",
              "       [[0.        ],\n",
              "        [0.22352941],\n",
              "        [0.73333333],\n",
              "        [0.81568627],\n",
              "        [0.87843137],\n",
              "        [0.86666667],\n",
              "        [0.87843137],\n",
              "        [0.81568627],\n",
              "        [0.8       ],\n",
              "        [0.83921569],\n",
              "        [0.81568627],\n",
              "        [0.81960784],\n",
              "        [0.78431373],\n",
              "        [0.62352941],\n",
              "        [0.96078431],\n",
              "        [0.75686275],\n",
              "        [0.80784314],\n",
              "        [0.8745098 ],\n",
              "        [1.        ],\n",
              "        [1.        ],\n",
              "        [0.86666667],\n",
              "        [0.91764706],\n",
              "        [0.86666667],\n",
              "        [0.82745098],\n",
              "        [0.8627451 ],\n",
              "        [0.90980392],\n",
              "        [0.96470588],\n",
              "        [0.        ]],\n",
              "\n",
              "       [[0.01176471],\n",
              "        [0.79215686],\n",
              "        [0.89411765],\n",
              "        [0.87843137],\n",
              "        [0.86666667],\n",
              "        [0.82745098],\n",
              "        [0.82745098],\n",
              "        [0.83921569],\n",
              "        [0.80392157],\n",
              "        [0.80392157],\n",
              "        [0.80392157],\n",
              "        [0.8627451 ],\n",
              "        [0.94117647],\n",
              "        [0.31372549],\n",
              "        [0.58823529],\n",
              "        [1.        ],\n",
              "        [0.89803922],\n",
              "        [0.86666667],\n",
              "        [0.7372549 ],\n",
              "        [0.60392157],\n",
              "        [0.74901961],\n",
              "        [0.82352941],\n",
              "        [0.8       ],\n",
              "        [0.81960784],\n",
              "        [0.87058824],\n",
              "        [0.89411765],\n",
              "        [0.88235294],\n",
              "        [0.        ]],\n",
              "\n",
              "       [[0.38431373],\n",
              "        [0.91372549],\n",
              "        [0.77647059],\n",
              "        [0.82352941],\n",
              "        [0.87058824],\n",
              "        [0.89803922],\n",
              "        [0.89803922],\n",
              "        [0.91764706],\n",
              "        [0.97647059],\n",
              "        [0.8627451 ],\n",
              "        [0.76078431],\n",
              "        [0.84313725],\n",
              "        [0.85098039],\n",
              "        [0.94509804],\n",
              "        [0.25490196],\n",
              "        [0.28627451],\n",
              "        [0.41568627],\n",
              "        [0.45882353],\n",
              "        [0.65882353],\n",
              "        [0.85882353],\n",
              "        [0.86666667],\n",
              "        [0.84313725],\n",
              "        [0.85098039],\n",
              "        [0.8745098 ],\n",
              "        [0.8745098 ],\n",
              "        [0.87843137],\n",
              "        [0.89803922],\n",
              "        [0.11372549]],\n",
              "\n",
              "       [[0.29411765],\n",
              "        [0.8       ],\n",
              "        [0.83137255],\n",
              "        [0.8       ],\n",
              "        [0.75686275],\n",
              "        [0.80392157],\n",
              "        [0.82745098],\n",
              "        [0.88235294],\n",
              "        [0.84705882],\n",
              "        [0.7254902 ],\n",
              "        [0.77254902],\n",
              "        [0.80784314],\n",
              "        [0.77647059],\n",
              "        [0.83529412],\n",
              "        [0.94117647],\n",
              "        [0.76470588],\n",
              "        [0.89019608],\n",
              "        [0.96078431],\n",
              "        [0.9372549 ],\n",
              "        [0.8745098 ],\n",
              "        [0.85490196],\n",
              "        [0.83137255],\n",
              "        [0.81960784],\n",
              "        [0.87058824],\n",
              "        [0.8627451 ],\n",
              "        [0.86666667],\n",
              "        [0.90196078],\n",
              "        [0.2627451 ]],\n",
              "\n",
              "       [[0.18823529],\n",
              "        [0.79607843],\n",
              "        [0.71764706],\n",
              "        [0.76078431],\n",
              "        [0.83529412],\n",
              "        [0.77254902],\n",
              "        [0.7254902 ],\n",
              "        [0.74509804],\n",
              "        [0.76078431],\n",
              "        [0.75294118],\n",
              "        [0.79215686],\n",
              "        [0.83921569],\n",
              "        [0.85882353],\n",
              "        [0.86666667],\n",
              "        [0.8627451 ],\n",
              "        [0.9254902 ],\n",
              "        [0.88235294],\n",
              "        [0.84705882],\n",
              "        [0.78039216],\n",
              "        [0.80784314],\n",
              "        [0.72941176],\n",
              "        [0.70980392],\n",
              "        [0.69411765],\n",
              "        [0.6745098 ],\n",
              "        [0.70980392],\n",
              "        [0.80392157],\n",
              "        [0.80784314],\n",
              "        [0.45098039]],\n",
              "\n",
              "       [[0.        ],\n",
              "        [0.47843137],\n",
              "        [0.85882353],\n",
              "        [0.75686275],\n",
              "        [0.70196078],\n",
              "        [0.67058824],\n",
              "        [0.71764706],\n",
              "        [0.76862745],\n",
              "        [0.8       ],\n",
              "        [0.82352941],\n",
              "        [0.83529412],\n",
              "        [0.81176471],\n",
              "        [0.82745098],\n",
              "        [0.82352941],\n",
              "        [0.78431373],\n",
              "        [0.76862745],\n",
              "        [0.76078431],\n",
              "        [0.74901961],\n",
              "        [0.76470588],\n",
              "        [0.74901961],\n",
              "        [0.77647059],\n",
              "        [0.75294118],\n",
              "        [0.69019608],\n",
              "        [0.61176471],\n",
              "        [0.65490196],\n",
              "        [0.69411765],\n",
              "        [0.82352941],\n",
              "        [0.36078431]],\n",
              "\n",
              "       [[0.        ],\n",
              "        [0.        ],\n",
              "        [0.29019608],\n",
              "        [0.74117647],\n",
              "        [0.83137255],\n",
              "        [0.74901961],\n",
              "        [0.68627451],\n",
              "        [0.6745098 ],\n",
              "        [0.68627451],\n",
              "        [0.70980392],\n",
              "        [0.7254902 ],\n",
              "        [0.7372549 ],\n",
              "        [0.74117647],\n",
              "        [0.7372549 ],\n",
              "        [0.75686275],\n",
              "        [0.77647059],\n",
              "        [0.8       ],\n",
              "        [0.81960784],\n",
              "        [0.82352941],\n",
              "        [0.82352941],\n",
              "        [0.82745098],\n",
              "        [0.7372549 ],\n",
              "        [0.7372549 ],\n",
              "        [0.76078431],\n",
              "        [0.75294118],\n",
              "        [0.84705882],\n",
              "        [0.66666667],\n",
              "        [0.        ]],\n",
              "\n",
              "       [[0.00784314],\n",
              "        [0.        ],\n",
              "        [0.        ],\n",
              "        [0.        ],\n",
              "        [0.25882353],\n",
              "        [0.78431373],\n",
              "        [0.87058824],\n",
              "        [0.92941176],\n",
              "        [0.9372549 ],\n",
              "        [0.94901961],\n",
              "        [0.96470588],\n",
              "        [0.95294118],\n",
              "        [0.95686275],\n",
              "        [0.86666667],\n",
              "        [0.8627451 ],\n",
              "        [0.75686275],\n",
              "        [0.74901961],\n",
              "        [0.70196078],\n",
              "        [0.71372549],\n",
              "        [0.71372549],\n",
              "        [0.70980392],\n",
              "        [0.69019608],\n",
              "        [0.65098039],\n",
              "        [0.65882353],\n",
              "        [0.38823529],\n",
              "        [0.22745098],\n",
              "        [0.        ],\n",
              "        [0.        ]],\n",
              "\n",
              "       [[0.        ],\n",
              "        [0.        ],\n",
              "        [0.        ],\n",
              "        [0.        ],\n",
              "        [0.        ],\n",
              "        [0.        ],\n",
              "        [0.        ],\n",
              "        [0.15686275],\n",
              "        [0.23921569],\n",
              "        [0.17254902],\n",
              "        [0.28235294],\n",
              "        [0.16078431],\n",
              "        [0.1372549 ],\n",
              "        [0.        ],\n",
              "        [0.        ],\n",
              "        [0.        ],\n",
              "        [0.        ],\n",
              "        [0.        ],\n",
              "        [0.        ],\n",
              "        [0.        ],\n",
              "        [0.        ],\n",
              "        [0.        ],\n",
              "        [0.        ],\n",
              "        [0.        ],\n",
              "        [0.        ],\n",
              "        [0.        ],\n",
              "        [0.        ],\n",
              "        [0.        ]],\n",
              "\n",
              "       [[0.        ],\n",
              "        [0.        ],\n",
              "        [0.        ],\n",
              "        [0.        ],\n",
              "        [0.        ],\n",
              "        [0.        ],\n",
              "        [0.        ],\n",
              "        [0.        ],\n",
              "        [0.        ],\n",
              "        [0.        ],\n",
              "        [0.        ],\n",
              "        [0.        ],\n",
              "        [0.        ],\n",
              "        [0.        ],\n",
              "        [0.        ],\n",
              "        [0.        ],\n",
              "        [0.        ],\n",
              "        [0.        ],\n",
              "        [0.        ],\n",
              "        [0.        ],\n",
              "        [0.        ],\n",
              "        [0.        ],\n",
              "        [0.        ],\n",
              "        [0.        ],\n",
              "        [0.        ],\n",
              "        [0.        ],\n",
              "        [0.        ],\n",
              "        [0.        ]],\n",
              "\n",
              "       [[0.        ],\n",
              "        [0.        ],\n",
              "        [0.        ],\n",
              "        [0.        ],\n",
              "        [0.        ],\n",
              "        [0.        ],\n",
              "        [0.        ],\n",
              "        [0.        ],\n",
              "        [0.        ],\n",
              "        [0.        ],\n",
              "        [0.        ],\n",
              "        [0.        ],\n",
              "        [0.        ],\n",
              "        [0.        ],\n",
              "        [0.        ],\n",
              "        [0.        ],\n",
              "        [0.        ],\n",
              "        [0.        ],\n",
              "        [0.        ],\n",
              "        [0.        ],\n",
              "        [0.        ],\n",
              "        [0.        ],\n",
              "        [0.        ],\n",
              "        [0.        ],\n",
              "        [0.        ],\n",
              "        [0.        ],\n",
              "        [0.        ],\n",
              "        [0.        ]]])"
            ]
          },
          "metadata": {
            "tags": []
          },
          "execution_count": 18
        }
      ]
    },
    {
      "cell_type": "markdown",
      "metadata": {
        "id": "ZUAVa4OFFrYh"
      },
      "source": [
        "#Split Dataset"
      ]
    },
    {
      "cell_type": "code",
      "metadata": {
        "id": "VMaU84UXFQo1"
      },
      "source": [
        "from sklearn.model_selection import train_test_split \n",
        "X_train, X_validation, y_train, y_validation = train_test_split(X_train, y_train, test_size= 0.2, random_state=2020)"
      ],
      "execution_count": null,
      "outputs": []
    },
    {
      "cell_type": "code",
      "metadata": {
        "id": "G31DtFcQGj6R",
        "outputId": "f9276fd8-d744-4f68-dcb9-9da0aa451927",
        "colab": {
          "base_uri": "https://localhost:8080/",
          "height": 34
        }
      },
      "source": [
        "X_train.shape,  y_train.shape, X_validation.shape, y_validation.shape"
      ],
      "execution_count": null,
      "outputs": [
        {
          "output_type": "execute_result",
          "data": {
            "text/plain": [
              "((48000, 28, 28, 1), (48000,), (12000, 28, 28, 1), (12000,))"
            ]
          },
          "metadata": {
            "tags": []
          },
          "execution_count": 20
        }
      ]
    },
    {
      "cell_type": "markdown",
      "metadata": {
        "id": "MsjwB1A1G8PN"
      },
      "source": [
        "##Convolutional Neural Network - Model Building"
      ]
    },
    {
      "cell_type": "code",
      "metadata": {
        "id": "fcBZ9jMaGuWN"
      },
      "source": [
        "#Building CNN model\n",
        "cnn_model = keras.models.Sequential([\n",
        "                         keras.layers.Conv2D(filters=32, kernel_size=3, strides=(1,1), padding='valid',activation= 'relu', input_shape=[28,28,1]),\n",
        "                         keras.layers.MaxPooling2D(pool_size=(2,2)),\n",
        "                         keras.layers.Flatten(),\n",
        "                         keras.layers.Dense(units=128, activation='relu'),\n",
        "                         keras.layers.Dense(units=10, activation='softmax')\n",
        "])"
      ],
      "execution_count": null,
      "outputs": []
    },
    {
      "cell_type": "code",
      "metadata": {
        "id": "0a1OznTaJ5d2",
        "outputId": "5f2758d8-c64c-449f-9fdb-3a1f633239bb",
        "colab": {
          "base_uri": "https://localhost:8080/",
          "height": 319
        }
      },
      "source": [
        "cnn_model.summary() # get the summary of model"
      ],
      "execution_count": null,
      "outputs": [
        {
          "output_type": "stream",
          "text": [
            "Model: \"sequential\"\n",
            "_________________________________________________________________\n",
            "Layer (type)                 Output Shape              Param #   \n",
            "=================================================================\n",
            "conv2d (Conv2D)              (None, 26, 26, 32)        320       \n",
            "_________________________________________________________________\n",
            "max_pooling2d (MaxPooling2D) (None, 13, 13, 32)        0         \n",
            "_________________________________________________________________\n",
            "flatten (Flatten)            (None, 5408)              0         \n",
            "_________________________________________________________________\n",
            "dense (Dense)                (None, 128)               692352    \n",
            "_________________________________________________________________\n",
            "dense_1 (Dense)              (None, 10)                1290      \n",
            "=================================================================\n",
            "Total params: 693,962\n",
            "Trainable params: 693,962\n",
            "Non-trainable params: 0\n",
            "_________________________________________________________________\n"
          ],
          "name": "stdout"
        }
      ]
    },
    {
      "cell_type": "code",
      "metadata": {
        "id": "9NCQhfgIJ-bL"
      },
      "source": [
        "# complie the model\n",
        "cnn_model.compile(optimizer='adam', loss= 'sparse_categorical_crossentropy', metrics=['accuracy'])"
      ],
      "execution_count": null,
      "outputs": []
    },
    {
      "cell_type": "code",
      "metadata": {
        "id": "Hn0mtEM_Ke11",
        "outputId": "66924057-7ae8-4d4f-def5-8187c300065e",
        "colab": {
          "base_uri": "https://localhost:8080/",
          "height": 874
        }
      },
      "source": [
        "# train cnn model\n",
        "cnn_model.fit(X_train, y_train, epochs=25, batch_size=512, verbose=1, validation_data=(X_validation, y_validation))"
      ],
      "execution_count": null,
      "outputs": [
        {
          "output_type": "stream",
          "text": [
            "Epoch 1/25\n",
            "94/94 [==============================] - 1s 9ms/step - loss: 0.6526 - accuracy: 0.7836 - val_loss: 0.4321 - val_accuracy: 0.8508\n",
            "Epoch 2/25\n",
            "94/94 [==============================] - 1s 7ms/step - loss: 0.3839 - accuracy: 0.8654 - val_loss: 0.3747 - val_accuracy: 0.8702\n",
            "Epoch 3/25\n",
            "94/94 [==============================] - 1s 7ms/step - loss: 0.3321 - accuracy: 0.8832 - val_loss: 0.3384 - val_accuracy: 0.8831\n",
            "Epoch 4/25\n",
            "94/94 [==============================] - 1s 7ms/step - loss: 0.3068 - accuracy: 0.8913 - val_loss: 0.3265 - val_accuracy: 0.8874\n",
            "Epoch 5/25\n",
            "94/94 [==============================] - 1s 7ms/step - loss: 0.2830 - accuracy: 0.8991 - val_loss: 0.2994 - val_accuracy: 0.8967\n",
            "Epoch 6/25\n",
            "94/94 [==============================] - 1s 7ms/step - loss: 0.2643 - accuracy: 0.9053 - val_loss: 0.3021 - val_accuracy: 0.8956\n",
            "Epoch 7/25\n",
            "94/94 [==============================] - 1s 7ms/step - loss: 0.2498 - accuracy: 0.9115 - val_loss: 0.2808 - val_accuracy: 0.9040\n",
            "Epoch 8/25\n",
            "94/94 [==============================] - 1s 7ms/step - loss: 0.2404 - accuracy: 0.9137 - val_loss: 0.2946 - val_accuracy: 0.8965\n",
            "Epoch 9/25\n",
            "94/94 [==============================] - 1s 7ms/step - loss: 0.2279 - accuracy: 0.9176 - val_loss: 0.2825 - val_accuracy: 0.9038\n",
            "Epoch 10/25\n",
            "94/94 [==============================] - 1s 7ms/step - loss: 0.2161 - accuracy: 0.9225 - val_loss: 0.2680 - val_accuracy: 0.9078\n",
            "Epoch 11/25\n",
            "94/94 [==============================] - 1s 7ms/step - loss: 0.2085 - accuracy: 0.9249 - val_loss: 0.2688 - val_accuracy: 0.9067\n",
            "Epoch 12/25\n",
            "94/94 [==============================] - 1s 7ms/step - loss: 0.1972 - accuracy: 0.9292 - val_loss: 0.2643 - val_accuracy: 0.9103\n",
            "Epoch 13/25\n",
            "94/94 [==============================] - 1s 7ms/step - loss: 0.1895 - accuracy: 0.9316 - val_loss: 0.2669 - val_accuracy: 0.9077\n",
            "Epoch 14/25\n",
            "94/94 [==============================] - 1s 7ms/step - loss: 0.1791 - accuracy: 0.9350 - val_loss: 0.2635 - val_accuracy: 0.9078\n",
            "Epoch 15/25\n",
            "94/94 [==============================] - 1s 7ms/step - loss: 0.1720 - accuracy: 0.9381 - val_loss: 0.2561 - val_accuracy: 0.9117\n",
            "Epoch 16/25\n",
            "94/94 [==============================] - 1s 7ms/step - loss: 0.1643 - accuracy: 0.9413 - val_loss: 0.2562 - val_accuracy: 0.9129\n",
            "Epoch 17/25\n",
            "94/94 [==============================] - 1s 7ms/step - loss: 0.1554 - accuracy: 0.9449 - val_loss: 0.2667 - val_accuracy: 0.9103\n",
            "Epoch 18/25\n",
            "94/94 [==============================] - 1s 7ms/step - loss: 0.1546 - accuracy: 0.9441 - val_loss: 0.2636 - val_accuracy: 0.9098\n",
            "Epoch 19/25\n",
            "94/94 [==============================] - 1s 7ms/step - loss: 0.1426 - accuracy: 0.9498 - val_loss: 0.2611 - val_accuracy: 0.9121\n",
            "Epoch 20/25\n",
            "94/94 [==============================] - 1s 7ms/step - loss: 0.1378 - accuracy: 0.9512 - val_loss: 0.2740 - val_accuracy: 0.9078\n",
            "Epoch 21/25\n",
            "94/94 [==============================] - 1s 7ms/step - loss: 0.1288 - accuracy: 0.9551 - val_loss: 0.2671 - val_accuracy: 0.9103\n",
            "Epoch 22/25\n",
            "94/94 [==============================] - 1s 7ms/step - loss: 0.1260 - accuracy: 0.9559 - val_loss: 0.2781 - val_accuracy: 0.9072\n",
            "Epoch 23/25\n",
            "94/94 [==============================] - 1s 7ms/step - loss: 0.1201 - accuracy: 0.9576 - val_loss: 0.2639 - val_accuracy: 0.9134\n",
            "Epoch 24/25\n",
            "94/94 [==============================] - 1s 7ms/step - loss: 0.1136 - accuracy: 0.9610 - val_loss: 0.2800 - val_accuracy: 0.9072\n",
            "Epoch 25/25\n",
            "94/94 [==============================] - 1s 7ms/step - loss: 0.1078 - accuracy: 0.9633 - val_loss: 0.2667 - val_accuracy: 0.9137\n"
          ],
          "name": "stdout"
        },
        {
          "output_type": "execute_result",
          "data": {
            "text/plain": [
              "<tensorflow.python.keras.callbacks.History at 0x7fc3575decc0>"
            ]
          },
          "metadata": {
            "tags": []
          },
          "execution_count": 24
        }
      ]
    },
    {
      "cell_type": "markdown",
      "metadata": {
        "id": "z5Gmdbh-MIth"
      },
      "source": [
        "Test the Model"
      ]
    },
    {
      "cell_type": "code",
      "metadata": {
        "id": "FW2JqHFaM1KD",
        "outputId": "34a71e18-d4f8-4c26-f086-7715747e0d61",
        "colab": {
          "base_uri": "https://localhost:8080/",
          "height": 34
        }
      },
      "source": [
        "cnn_model.predict(np.expand_dims(X_test[0],axis=0)).round(2)"
      ],
      "execution_count": null,
      "outputs": [
        {
          "output_type": "execute_result",
          "data": {
            "text/plain": [
              "array([[0., 0., 0., 0., 0., 0., 0., 0., 0., 1.]], dtype=float32)"
            ]
          },
          "metadata": {
            "tags": []
          },
          "execution_count": 25
        }
      ]
    },
    {
      "cell_type": "code",
      "metadata": {
        "id": "f8MSSxEDNPCW",
        "outputId": "2eea92c2-5dfb-48d9-c8b0-4df3a16f444e",
        "colab": {
          "base_uri": "https://localhost:8080/",
          "height": 34
        }
      },
      "source": [
        "np.argmax(cnn_model.predict(np.expand_dims(X_test[0],axis=0)).round(2))"
      ],
      "execution_count": null,
      "outputs": [
        {
          "output_type": "execute_result",
          "data": {
            "text/plain": [
              "9"
            ]
          },
          "metadata": {
            "tags": []
          },
          "execution_count": 26
        }
      ]
    },
    {
      "cell_type": "code",
      "metadata": {
        "id": "BEJ60-6xNbo1",
        "outputId": "0c062a00-c770-491a-9812-558a688e23b5",
        "colab": {
          "base_uri": "https://localhost:8080/",
          "height": 34
        }
      },
      "source": [
        "y_test[0]"
      ],
      "execution_count": null,
      "outputs": [
        {
          "output_type": "execute_result",
          "data": {
            "text/plain": [
              "9"
            ]
          },
          "metadata": {
            "tags": []
          },
          "execution_count": 27
        }
      ]
    },
    {
      "cell_type": "code",
      "metadata": {
        "id": "MAMCeGzBKv-6",
        "outputId": "2d532759-7c09-4f04-8dcc-f5418381708b",
        "colab": {
          "base_uri": "https://localhost:8080/",
          "height": 134
        }
      },
      "source": [
        "y_pred = cnn_model.predict(X_test).round(2)\n",
        "y_pred"
      ],
      "execution_count": null,
      "outputs": [
        {
          "output_type": "execute_result",
          "data": {
            "text/plain": [
              "array([[0.  , 0.  , 0.  , ..., 0.  , 0.  , 1.  ],\n",
              "       [0.  , 0.  , 1.  , ..., 0.  , 0.  , 0.  ],\n",
              "       [0.  , 1.  , 0.  , ..., 0.  , 0.  , 0.  ],\n",
              "       ...,\n",
              "       [0.  , 0.  , 0.  , ..., 0.  , 1.  , 0.  ],\n",
              "       [0.  , 1.  , 0.  , ..., 0.  , 0.  , 0.  ],\n",
              "       [0.  , 0.  , 0.  , ..., 0.01, 0.  , 0.  ]], dtype=float32)"
            ]
          },
          "metadata": {
            "tags": []
          },
          "execution_count": 28
        }
      ]
    },
    {
      "cell_type": "code",
      "metadata": {
        "id": "TzJl-TAJNnt8",
        "outputId": "bda3324d-266b-4693-b8bd-350a05378866",
        "colab": {
          "base_uri": "https://localhost:8080/",
          "height": 50
        }
      },
      "source": [
        "cnn_model.evaluate(X_test, y_test)\n",
        "\n",
        "#test data accuracy = 91.03 %\n",
        "#train data accuracy = 96.12 %"
      ],
      "execution_count": null,
      "outputs": [
        {
          "output_type": "stream",
          "text": [
            "313/313 [==============================] - 1s 2ms/step - loss: 0.2694 - accuracy: 0.9142\n"
          ],
          "name": "stdout"
        },
        {
          "output_type": "execute_result",
          "data": {
            "text/plain": [
              "[0.269401878118515, 0.9142000079154968]"
            ]
          },
          "metadata": {
            "tags": []
          },
          "execution_count": 29
        }
      ]
    },
    {
      "cell_type": "markdown",
      "metadata": {
        "id": "ShPAT0pPOqu8"
      },
      "source": [
        "Visualize output"
      ]
    },
    {
      "cell_type": "code",
      "metadata": {
        "id": "wAKHIUOKOPhi",
        "outputId": "613c4968-a315-415d-ca21-30cc59dd5bbd",
        "colab": {
          "base_uri": "https://localhost:8080/",
          "height": 1000
        }
      },
      "source": [
        "plt.figure(figsize=(16,30))\n",
        "\n",
        "j=1\n",
        "for i in np.random.randint(0, 1000,60):\n",
        "  plt.subplot(10,6, j); j+=1\n",
        "  plt.imshow(X_test[i].reshape(28,28), cmap = 'Greys')\n",
        "  plt.title('Actual = {} / {} \\nPredicted = {} / {}'.format(class_labels[y_test[i]], y_test[i], class_labels[np.argmax(y_pred[i])],np.argmax(y_pred[i])))\n",
        "  plt.axis('off')"
      ],
      "execution_count": null,
      "outputs": [
        {
          "output_type": "display_data",
          "data": {
            "image/png": "[encoded data removed]",
            "text/plain": [
              "<Figure size 1152x2160 with 60 Axes>"
            ]
          },
          "metadata": {
            "tags": [],
            "needs_background": "light"
          }
        }
      ]
    },
    {
      "cell_type": "markdown",
      "metadata": {
        "id": "9qg8QguRPouQ"
      },
      "source": [
        "Confusion Matrix"
      ]
    },
    {
      "cell_type": "code",
      "metadata": {
        "id": "ESYo1L2qO5js",
        "outputId": "2c3bdbb0-34a4-4812-8cf6-a5cfb47fa696",
        "colab": {
          "base_uri": "https://localhost:8080/",
          "height": 554
        }
      },
      "source": [
        "from sklearn.metrics import confusion_matrix\n",
        "\n",
        "plt.figure(figsize=(16,9))\n",
        "y_pred_labels = [ np.argmax(label) for label in y_pred ]\n",
        "cm = confusion_matrix(y_test, y_pred_labels)\n",
        "\n",
        "# show cm \n",
        "sns.heatmap(cm, annot=True, fmt='d',xticklabels=class_labels, yticklabels=class_labels)"
      ],
      "execution_count": null,
      "outputs": [
        {
          "output_type": "execute_result",
          "data": {
            "text/plain": [
              "<matplotlib.axes._subplots.AxesSubplot at 0x7fc39b71f048>"
            ]
          },
          "metadata": {
            "tags": []
          },
          "execution_count": 31
        },
        {
          "output_type": "display_data",
          "data": {
            "image/png": "[encoded data removed]",
            "text/plain": [
              "<Figure size 1152x648 with 2 Axes>"
            ]
          },
          "metadata": {
            "tags": [],
            "needs_background": "light"
          }
        }
      ]
    },
    {
      "cell_type": "code",
      "metadata": {
        "id": "AlB7FPubTO_f",
        "outputId": "dc4682f1-62e3-4a6d-b0f0-cf14daf91863",
        "colab": {
          "base_uri": "https://localhost:8080/",
          "height": 302
        }
      },
      "source": [
        "from sklearn.metrics import classification_report\n",
        "cr= classification_report(y_test, y_pred_labels, target_names=class_labels)\n",
        "print(cr)"
      ],
      "execution_count": null,
      "outputs": [
        {
          "output_type": "stream",
          "text": [
            "              precision    recall  f1-score   support\n",
            "\n",
            " T-shirt/top       0.85      0.87      0.86      1000\n",
            "     Trouser       0.98      0.99      0.98      1000\n",
            "    Pullover       0.87      0.87      0.87      1000\n",
            "       Dress       0.92      0.89      0.91      1000\n",
            "        Coat       0.83      0.91      0.87      1000\n",
            "      Sandal       0.98      0.98      0.98      1000\n",
            "       Shirt       0.80      0.72      0.76      1000\n",
            "     Sneaker       0.97      0.96      0.96      1000\n",
            "         Bag       0.97      0.98      0.98      1000\n",
            "  Ankle boot       0.96      0.97      0.97      1000\n",
            "\n",
            "    accuracy                           0.91     10000\n",
            "   macro avg       0.91      0.91      0.91     10000\n",
            "weighted avg       0.91      0.91      0.91     10000\n",
            "\n"
          ],
          "name": "stdout"
        }
      ]
    },
    {
      "cell_type": "markdown",
      "metadata": {
        "id": "Alyu3mipUkzA"
      },
      "source": [
        "# Save Model"
      ]
    },
    {
      "cell_type": "code",
      "metadata": {
        "id": "_3EXXrtfUDUl"
      },
      "source": [
        "cnn_model.save('fashion_mnist_cnn_model.h5') # Save model "
      ],
      "execution_count": null,
      "outputs": []
    },
    {
      "cell_type": "code",
      "metadata": {
        "id": "XRkWzzATVGro"
      },
      "source": [
        "path = '/content/drive/My Drive/fashion_mnist_cnn_model_2.h5'\n",
        "\n",
        "cnn_model.save(path) # Save model "
      ],
      "execution_count": null,
      "outputs": []
    },
    {
      "cell_type": "code",
      "metadata": {
        "id": "-Af-MRuRWlLM"
      },
      "source": [
        "model_deploy = keras.models.load_model('fashion_mnist_cnn_model.h5')"
      ],
      "execution_count": null,
      "outputs": []
    },
    {
      "cell_type": "code",
      "metadata": {
        "id": "tuKS5PH2XX-R",
        "outputId": "d2c3a885-ead9-43b3-de6c-9b272c9f276f",
        "colab": {
          "base_uri": "https://localhost:8080/",
          "height": 134
        }
      },
      "source": [
        "model_deploy.predict(X_test).round(2)"
      ],
      "execution_count": null,
      "outputs": [
        {
          "output_type": "execute_result",
          "data": {
            "text/plain": [
              "array([[0.  , 0.  , 0.  , ..., 0.  , 0.  , 1.  ],\n",
              "       [0.  , 0.  , 1.  , ..., 0.  , 0.  , 0.  ],\n",
              "       [0.  , 1.  , 0.  , ..., 0.  , 0.  , 0.  ],\n",
              "       ...,\n",
              "       [0.  , 0.  , 0.  , ..., 0.  , 1.  , 0.  ],\n",
              "       [0.  , 1.  , 0.  , ..., 0.  , 0.  , 0.  ],\n",
              "       [0.  , 0.  , 0.  , ..., 0.01, 0.  , 0.  ]], dtype=float32)"
            ]
          },
          "metadata": {
            "tags": []
          },
          "execution_count": 37
        }
      ]
    },
    {
      "cell_type": "code",
      "metadata": {
        "id": "oWB1Tai0XlXZ",
        "outputId": "863dcafc-aa7c-48c6-b79f-4f68e4eaf756",
        "colab": {
          "base_uri": "https://localhost:8080/",
          "height": 34
        }
      },
      "source": [
        "model_deploy.predict(np.expand_dims(X_test[0],axis = 0)).round(2)"
      ],
      "execution_count": null,
      "outputs": [
        {
          "output_type": "execute_result",
          "data": {
            "text/plain": [
              "array([[0., 0., 0., 0., 0., 0., 0., 0., 0., 1.]], dtype=float32)"
            ]
          },
          "metadata": {
            "tags": []
          },
          "execution_count": 39
        }
      ]
    },
    {
      "cell_type": "code",
      "metadata": {
        "id": "pMbiTrACX8LI",
        "outputId": "a7791f87-0e71-4e04-b8a7-9c6ca8459199",
        "colab": {
          "base_uri": "https://localhost:8080/",
          "height": 34
        }
      },
      "source": [
        "np.argmax(model_deploy.predict(np.expand_dims(X_test[0],axis = 0)).round(2))\n",
        "\n",
        "#9 number represemts ankle boot"
      ],
      "execution_count": null,
      "outputs": [
        {
          "output_type": "execute_result",
          "data": {
            "text/plain": [
              "9"
            ]
          },
          "metadata": {
            "tags": []
          },
          "execution_count": 40
        }
      ]
    },
    {
      "cell_type": "markdown",
      "metadata": {
        "id": "aTsJJ4zwZI7S"
      },
      "source": [
        "##Convolutional Neural Network - Building Complex Model"
      ]
    },
    {
      "cell_type": "code",
      "metadata": {
        "id": "i7fpScz2YHlt"
      },
      "source": [
        "#Building CNN model\n",
        "cnn_model2 = keras.models.Sequential([\n",
        "                         keras.layers.Conv2D(filters=32, kernel_size=3, strides=(1,1), padding='valid',activation= 'relu', input_shape=[28,28,1]),\n",
        "                         keras.layers.MaxPooling2D(pool_size=(2,2)),\n",
        "                         keras.layers.Conv2D(filters=64, kernel_size=3, strides=(2,2), padding='same', activation='relu'),\n",
        "                         keras.layers.MaxPooling2D(pool_size=(2,2)),\n",
        "                         keras.layers.Flatten(),\n",
        "                         keras.layers.Dense(units=128, activation='relu'),\n",
        "                         keras.layers.Dropout(0.25),\n",
        "                         keras.layers.Dense(units=256, activation='relu'),\n",
        "                         keras.layers.Dropout(0.25),\n",
        "                         keras.layers.Dense(units=128, activation='relu'),\n",
        "                         keras.layers.Dense(units=10, activation='softmax')\n",
        "                         ])"
      ],
      "execution_count": null,
      "outputs": []
    },
    {
      "cell_type": "code",
      "metadata": {
        "id": "4AZvoR6VZ1gT"
      },
      "source": [
        "# complie the model\n",
        "cnn_model2.compile(optimizer='adam', loss= 'sparse_categorical_crossentropy', metrics=['accuracy'])"
      ],
      "execution_count": null,
      "outputs": []
    },
    {
      "cell_type": "code",
      "metadata": {
        "id": "J0JmIgvOZ4Kr",
        "outputId": "56479fa6-d9fe-4cd1-feae-c1abb36afee8",
        "colab": {
          "base_uri": "https://localhost:8080/",
          "height": 1000
        }
      },
      "source": [
        "#Train the Model\n",
        "cnn_model2.fit(X_train, y_train, epochs=30, batch_size=512, verbose=1, validation_data=(X_validation, y_validation))"
      ],
      "execution_count": null,
      "outputs": [
        {
          "output_type": "stream",
          "text": [
            "Epoch 1/30\n",
            "94/94 [==============================] - 1s 11ms/step - loss: 1.0328 - accuracy: 0.6100 - val_loss: 0.5879 - val_accuracy: 0.7730\n",
            "Epoch 2/30\n",
            "94/94 [==============================] - 1s 9ms/step - loss: 0.5503 - accuracy: 0.7923 - val_loss: 0.4548 - val_accuracy: 0.8326\n",
            "Epoch 3/30\n",
            "94/94 [==============================] - 1s 8ms/step - loss: 0.4503 - accuracy: 0.8365 - val_loss: 0.3930 - val_accuracy: 0.8570\n",
            "Epoch 4/30\n",
            "94/94 [==============================] - 1s 9ms/step - loss: 0.3956 - accuracy: 0.8559 - val_loss: 0.3582 - val_accuracy: 0.8696\n",
            "Epoch 5/30\n",
            "94/94 [==============================] - 1s 9ms/step - loss: 0.3635 - accuracy: 0.8673 - val_loss: 0.3406 - val_accuracy: 0.8731\n",
            "Epoch 6/30\n",
            "94/94 [==============================] - 1s 9ms/step - loss: 0.3332 - accuracy: 0.8791 - val_loss: 0.3257 - val_accuracy: 0.8808\n",
            "Epoch 7/30\n",
            "94/94 [==============================] - 1s 9ms/step - loss: 0.3176 - accuracy: 0.8840 - val_loss: 0.3115 - val_accuracy: 0.8842\n",
            "Epoch 8/30\n",
            "94/94 [==============================] - 1s 9ms/step - loss: 0.3027 - accuracy: 0.8888 - val_loss: 0.3082 - val_accuracy: 0.8854\n",
            "Epoch 9/30\n",
            "94/94 [==============================] - 1s 9ms/step - loss: 0.2870 - accuracy: 0.8954 - val_loss: 0.2933 - val_accuracy: 0.8942\n",
            "Epoch 10/30\n",
            "94/94 [==============================] - 1s 9ms/step - loss: 0.2781 - accuracy: 0.8981 - val_loss: 0.3022 - val_accuracy: 0.8899\n",
            "Epoch 11/30\n",
            "94/94 [==============================] - 1s 9ms/step - loss: 0.2655 - accuracy: 0.9043 - val_loss: 0.2893 - val_accuracy: 0.8956\n",
            "Epoch 12/30\n",
            "94/94 [==============================] - 1s 8ms/step - loss: 0.2575 - accuracy: 0.9050 - val_loss: 0.2827 - val_accuracy: 0.8970\n",
            "Epoch 13/30\n",
            "94/94 [==============================] - 1s 9ms/step - loss: 0.2492 - accuracy: 0.9070 - val_loss: 0.2721 - val_accuracy: 0.9038\n",
            "Epoch 14/30\n",
            "94/94 [==============================] - 1s 9ms/step - loss: 0.2413 - accuracy: 0.9103 - val_loss: 0.2930 - val_accuracy: 0.8943\n",
            "Epoch 15/30\n",
            "94/94 [==============================] - 1s 9ms/step - loss: 0.2331 - accuracy: 0.9149 - val_loss: 0.2669 - val_accuracy: 0.9033\n",
            "Epoch 16/30\n",
            "94/94 [==============================] - 1s 9ms/step - loss: 0.2247 - accuracy: 0.9168 - val_loss: 0.2650 - val_accuracy: 0.9054\n",
            "Epoch 17/30\n",
            "94/94 [==============================] - 1s 9ms/step - loss: 0.2152 - accuracy: 0.9191 - val_loss: 0.2817 - val_accuracy: 0.9014\n",
            "Epoch 18/30\n",
            "94/94 [==============================] - 1s 9ms/step - loss: 0.2109 - accuracy: 0.9221 - val_loss: 0.2697 - val_accuracy: 0.9045\n",
            "Epoch 19/30\n",
            "94/94 [==============================] - 1s 9ms/step - loss: 0.2045 - accuracy: 0.9252 - val_loss: 0.2615 - val_accuracy: 0.9076\n",
            "Epoch 20/30\n",
            "94/94 [==============================] - 1s 9ms/step - loss: 0.2046 - accuracy: 0.9236 - val_loss: 0.2698 - val_accuracy: 0.9068\n",
            "Epoch 21/30\n",
            "94/94 [==============================] - 1s 9ms/step - loss: 0.1961 - accuracy: 0.9273 - val_loss: 0.2665 - val_accuracy: 0.9074\n",
            "Epoch 22/30\n",
            "94/94 [==============================] - 1s 9ms/step - loss: 0.1893 - accuracy: 0.9294 - val_loss: 0.2615 - val_accuracy: 0.9090\n",
            "Epoch 23/30\n",
            "94/94 [==============================] - 1s 9ms/step - loss: 0.1835 - accuracy: 0.9315 - val_loss: 0.2666 - val_accuracy: 0.9105\n",
            "Epoch 24/30\n",
            "94/94 [==============================] - 1s 9ms/step - loss: 0.1799 - accuracy: 0.9321 - val_loss: 0.2602 - val_accuracy: 0.9112\n",
            "Epoch 25/30\n",
            "94/94 [==============================] - 1s 9ms/step - loss: 0.1729 - accuracy: 0.9354 - val_loss: 0.2713 - val_accuracy: 0.9093\n",
            "Epoch 26/30\n",
            "94/94 [==============================] - 1s 9ms/step - loss: 0.1693 - accuracy: 0.9369 - val_loss: 0.2784 - val_accuracy: 0.9066\n",
            "Epoch 27/30\n",
            "94/94 [==============================] - 1s 9ms/step - loss: 0.1656 - accuracy: 0.9386 - val_loss: 0.2702 - val_accuracy: 0.9107\n",
            "Epoch 28/30\n",
            "94/94 [==============================] - 1s 9ms/step - loss: 0.1592 - accuracy: 0.9401 - val_loss: 0.2697 - val_accuracy: 0.9106\n",
            "Epoch 29/30\n",
            "94/94 [==============================] - 1s 9ms/step - loss: 0.1590 - accuracy: 0.9402 - val_loss: 0.2808 - val_accuracy: 0.9078\n",
            "Epoch 30/30\n",
            "94/94 [==============================] - 1s 9ms/step - loss: 0.1507 - accuracy: 0.9437 - val_loss: 0.2862 - val_accuracy: 0.9103\n"
          ],
          "name": "stdout"
        },
        {
          "output_type": "execute_result",
          "data": {
            "text/plain": [
              "<tensorflow.python.keras.callbacks.History at 0x7fc2e2090e48>"
            ]
          },
          "metadata": {
            "tags": []
          },
          "execution_count": 43
        }
      ]
    },
    {
      "cell_type": "markdown",
      "metadata": {
        "id": "viwzPT7AaKHY"
      },
      "source": [
        "train accuracy = 94.37 % \n",
        "validation accuracy = 91.03 %\n",
        "\n",
        "previous model - train accuracy 96.33%  validation_accuracy: 91.37 %"
      ]
    },
    {
      "cell_type": "markdown",
      "metadata": {
        "id": "DjHuCHe4abq3"
      },
      "source": [
        ""
      ]
    },
    {
      "cell_type": "code",
      "metadata": {
        "id": "Frz1bJYiZ8sb",
        "outputId": "9782ca4f-6ce7-456a-a5b6-af0ab2568a11",
        "colab": {
          "base_uri": "https://localhost:8080/",
          "height": 50
        }
      },
      "source": [
        "cnn_model2.evaluate(X_test,y_test)\n",
        "#test accuarcy = 91.25%"
      ],
      "execution_count": null,
      "outputs": [
        {
          "output_type": "stream",
          "text": [
            "313/313 [==============================] - 1s 2ms/step - loss: 0.2877 - accuracy: 0.9125\n"
          ],
          "name": "stdout"
        },
        {
          "output_type": "execute_result",
          "data": {
            "text/plain": [
              "[0.2877345383167267, 0.9125000238418579]"
            ]
          },
          "metadata": {
            "tags": []
          },
          "execution_count": 44
        }
      ]
    },
    {
      "cell_type": "code",
      "metadata": {
        "id": "91kIf2Yyaw8Z"
      },
      "source": [
        "cnn_model2.save('fashion_mnist_cnn_model2.h5')"
      ],
      "execution_count": null,
      "outputs": []
    },
    {
      "cell_type": "markdown",
      "metadata": {
        "id": "Ux0E0vdrbuuP"
      },
      "source": [
        "##VERY VERY COMPLEX MODEL"
      ]
    },
    {
      "cell_type": "code",
      "metadata": {
        "id": "dI-xUaM3bkqy"
      },
      "source": [
        "#Building CNN model\n",
        "cnn_model3 = keras.models.Sequential([\n",
        "                         keras.layers.Conv2D(filters=64, kernel_size=3, strides=(1,1), padding='valid',activation= 'relu', input_shape=[28,28,1]),\n",
        "                         keras.layers.MaxPooling2D(pool_size=(2,2)),\n",
        "                         keras.layers.Conv2D(filters=128, kernel_size=3, strides=(2,2), padding='same', activation='relu'),\n",
        "                         keras.layers.MaxPooling2D(pool_size=(2,2)),\n",
        "                         keras.layers.Conv2D(filters=64, kernel_size=3, strides=(2,2), padding='same', activation='relu'),\n",
        "                         keras.layers.MaxPooling2D(pool_size=(2,2)),\n",
        "                         keras.layers.Flatten(),\n",
        "                         keras.layers.Dense(units=128, activation='relu'),\n",
        "                         keras.layers.Dropout(0.25),\n",
        "                         keras.layers.Dense(units=256, activation='relu'),\n",
        "                         keras.layers.Dropout(0.5),\n",
        "                         keras.layers.Dense(units=256, activation='relu'),\n",
        "                         keras.layers.Dropout(0.25),                        \n",
        "                         keras.layers.Dense(units=128, activation='relu'),\n",
        "                         keras.layers.Dropout(0.10),                         \n",
        "                         keras.layers.Dense(units=10, activation='softmax')\n",
        "                         ])"
      ],
      "execution_count": null,
      "outputs": []
    },
    {
      "cell_type": "code",
      "metadata": {
        "id": "2C_Zut-fb1PB"
      },
      "source": [
        "# complie the model\n",
        "cnn_model3.compile(optimizer='adam', loss= 'sparse_categorical_crossentropy', metrics=['accuracy'])"
      ],
      "execution_count": null,
      "outputs": []
    },
    {
      "cell_type": "code",
      "metadata": {
        "id": "kE-sJJxFb167",
        "outputId": "52bfd000-9262-48de-f3aa-4b515e993ca8",
        "colab": {
          "base_uri": "https://localhost:8080/",
          "height": 1000
        }
      },
      "source": [
        "#Train the Model\n",
        "cnn_model3.fit(X_train, y_train, epochs=50, batch_size=512, verbose=1, validation_data=(X_validation, y_validation))"
      ],
      "execution_count": null,
      "outputs": [
        {
          "output_type": "stream",
          "text": [
            "Epoch 1/50\n",
            "94/94 [==============================] - 2s 19ms/step - loss: 1.1760 - accuracy: 0.5425 - val_loss: 0.6334 - val_accuracy: 0.7606\n",
            "Epoch 2/50\n",
            "94/94 [==============================] - 2s 17ms/step - loss: 0.5851 - accuracy: 0.7826 - val_loss: 0.4971 - val_accuracy: 0.8138\n",
            "Epoch 3/50\n",
            "94/94 [==============================] - 2s 17ms/step - loss: 0.4714 - accuracy: 0.8298 - val_loss: 0.4006 - val_accuracy: 0.8514\n",
            "Epoch 4/50\n",
            "94/94 [==============================] - 2s 17ms/step - loss: 0.4047 - accuracy: 0.8562 - val_loss: 0.3921 - val_accuracy: 0.8537\n",
            "Epoch 5/50\n",
            "94/94 [==============================] - 2s 17ms/step - loss: 0.3645 - accuracy: 0.8708 - val_loss: 0.3626 - val_accuracy: 0.8668\n",
            "Epoch 6/50\n",
            "94/94 [==============================] - 2s 17ms/step - loss: 0.3368 - accuracy: 0.8801 - val_loss: 0.3264 - val_accuracy: 0.8821\n",
            "Epoch 7/50\n",
            "94/94 [==============================] - 2s 17ms/step - loss: 0.3098 - accuracy: 0.8918 - val_loss: 0.3000 - val_accuracy: 0.8916\n",
            "Epoch 8/50\n",
            "94/94 [==============================] - 2s 17ms/step - loss: 0.2978 - accuracy: 0.8947 - val_loss: 0.2932 - val_accuracy: 0.8937\n",
            "Epoch 9/50\n",
            "94/94 [==============================] - 2s 17ms/step - loss: 0.2732 - accuracy: 0.9048 - val_loss: 0.2913 - val_accuracy: 0.8928\n",
            "Epoch 10/50\n",
            "94/94 [==============================] - 2s 17ms/step - loss: 0.2660 - accuracy: 0.9058 - val_loss: 0.2934 - val_accuracy: 0.8967\n",
            "Epoch 11/50\n",
            "94/94 [==============================] - 2s 17ms/step - loss: 0.2499 - accuracy: 0.9105 - val_loss: 0.3078 - val_accuracy: 0.8917\n",
            "Epoch 12/50\n",
            "94/94 [==============================] - 2s 17ms/step - loss: 0.2375 - accuracy: 0.9158 - val_loss: 0.2890 - val_accuracy: 0.9016\n",
            "Epoch 13/50\n",
            "94/94 [==============================] - 2s 17ms/step - loss: 0.2259 - accuracy: 0.9186 - val_loss: 0.3130 - val_accuracy: 0.8907\n",
            "Epoch 14/50\n",
            "94/94 [==============================] - 2s 17ms/step - loss: 0.2145 - accuracy: 0.9240 - val_loss: 0.2728 - val_accuracy: 0.9070\n",
            "Epoch 15/50\n",
            "94/94 [==============================] - 2s 17ms/step - loss: 0.2119 - accuracy: 0.9236 - val_loss: 0.2954 - val_accuracy: 0.8997\n",
            "Epoch 16/50\n",
            "94/94 [==============================] - 2s 17ms/step - loss: 0.1984 - accuracy: 0.9302 - val_loss: 0.2785 - val_accuracy: 0.9043\n",
            "Epoch 17/50\n",
            "94/94 [==============================] - 2s 17ms/step - loss: 0.1921 - accuracy: 0.9319 - val_loss: 0.2892 - val_accuracy: 0.9052\n",
            "Epoch 18/50\n",
            "94/94 [==============================] - 2s 17ms/step - loss: 0.1781 - accuracy: 0.9357 - val_loss: 0.2784 - val_accuracy: 0.9062\n",
            "Epoch 19/50\n",
            "94/94 [==============================] - 2s 17ms/step - loss: 0.1755 - accuracy: 0.9376 - val_loss: 0.2804 - val_accuracy: 0.9078\n",
            "Epoch 20/50\n",
            "94/94 [==============================] - 2s 17ms/step - loss: 0.1667 - accuracy: 0.9405 - val_loss: 0.2930 - val_accuracy: 0.9063\n",
            "Epoch 21/50\n",
            "94/94 [==============================] - 2s 17ms/step - loss: 0.1643 - accuracy: 0.9414 - val_loss: 0.2833 - val_accuracy: 0.9068\n",
            "Epoch 22/50\n",
            "94/94 [==============================] - 2s 17ms/step - loss: 0.1509 - accuracy: 0.9465 - val_loss: 0.3177 - val_accuracy: 0.9038\n",
            "Epoch 23/50\n",
            "94/94 [==============================] - 2s 17ms/step - loss: 0.1473 - accuracy: 0.9470 - val_loss: 0.3005 - val_accuracy: 0.9067\n",
            "Epoch 24/50\n",
            "94/94 [==============================] - 2s 17ms/step - loss: 0.1472 - accuracy: 0.9475 - val_loss: 0.3089 - val_accuracy: 0.9050\n",
            "Epoch 25/50\n",
            "94/94 [==============================] - 2s 17ms/step - loss: 0.1366 - accuracy: 0.9513 - val_loss: 0.3171 - val_accuracy: 0.9095\n",
            "Epoch 26/50\n",
            "94/94 [==============================] - 2s 17ms/step - loss: 0.1286 - accuracy: 0.9538 - val_loss: 0.3215 - val_accuracy: 0.9081\n",
            "Epoch 27/50\n",
            "94/94 [==============================] - 2s 17ms/step - loss: 0.1246 - accuracy: 0.9557 - val_loss: 0.3237 - val_accuracy: 0.9088\n",
            "Epoch 28/50\n",
            "94/94 [==============================] - 2s 17ms/step - loss: 0.1183 - accuracy: 0.9584 - val_loss: 0.3271 - val_accuracy: 0.9097\n",
            "Epoch 29/50\n",
            "94/94 [==============================] - 2s 17ms/step - loss: 0.1219 - accuracy: 0.9568 - val_loss: 0.3284 - val_accuracy: 0.9044\n",
            "Epoch 30/50\n",
            "94/94 [==============================] - 2s 17ms/step - loss: 0.1142 - accuracy: 0.9598 - val_loss: 0.3504 - val_accuracy: 0.9069\n",
            "Epoch 31/50\n",
            "94/94 [==============================] - 2s 17ms/step - loss: 0.1025 - accuracy: 0.9633 - val_loss: 0.3411 - val_accuracy: 0.9092\n",
            "Epoch 32/50\n",
            "94/94 [==============================] - 2s 17ms/step - loss: 0.1066 - accuracy: 0.9620 - val_loss: 0.3562 - val_accuracy: 0.9064\n",
            "Epoch 33/50\n",
            "94/94 [==============================] - 2s 17ms/step - loss: 0.0968 - accuracy: 0.9652 - val_loss: 0.3610 - val_accuracy: 0.9089\n",
            "Epoch 34/50\n",
            "94/94 [==============================] - 2s 17ms/step - loss: 0.0967 - accuracy: 0.9644 - val_loss: 0.3523 - val_accuracy: 0.9087\n",
            "Epoch 35/50\n",
            "94/94 [==============================] - 2s 17ms/step - loss: 0.0946 - accuracy: 0.9659 - val_loss: 0.3714 - val_accuracy: 0.9080\n",
            "Epoch 36/50\n",
            "94/94 [==============================] - 2s 17ms/step - loss: 0.0902 - accuracy: 0.9679 - val_loss: 0.3821 - val_accuracy: 0.9052\n",
            "Epoch 37/50\n",
            "94/94 [==============================] - 2s 17ms/step - loss: 0.0896 - accuracy: 0.9680 - val_loss: 0.3974 - val_accuracy: 0.9072\n",
            "Epoch 38/50\n",
            "94/94 [==============================] - 2s 17ms/step - loss: 0.0820 - accuracy: 0.9710 - val_loss: 0.4052 - val_accuracy: 0.9091\n",
            "Epoch 39/50\n",
            "94/94 [==============================] - 2s 17ms/step - loss: 0.0795 - accuracy: 0.9718 - val_loss: 0.4370 - val_accuracy: 0.9073\n",
            "Epoch 40/50\n",
            "94/94 [==============================] - 2s 17ms/step - loss: 0.0743 - accuracy: 0.9731 - val_loss: 0.4022 - val_accuracy: 0.9064\n",
            "Epoch 41/50\n",
            "94/94 [==============================] - 2s 17ms/step - loss: 0.0743 - accuracy: 0.9744 - val_loss: 0.4063 - val_accuracy: 0.9053\n",
            "Epoch 42/50\n",
            "94/94 [==============================] - 2s 17ms/step - loss: 0.0693 - accuracy: 0.9757 - val_loss: 0.4657 - val_accuracy: 0.9051\n",
            "Epoch 43/50\n",
            "94/94 [==============================] - 2s 17ms/step - loss: 0.0757 - accuracy: 0.9731 - val_loss: 0.4020 - val_accuracy: 0.9047\n",
            "Epoch 44/50\n",
            "94/94 [==============================] - 2s 17ms/step - loss: 0.0642 - accuracy: 0.9771 - val_loss: 0.4519 - val_accuracy: 0.9032\n",
            "Epoch 45/50\n",
            "94/94 [==============================] - 2s 17ms/step - loss: 0.0623 - accuracy: 0.9774 - val_loss: 0.4405 - val_accuracy: 0.9083\n",
            "Epoch 46/50\n",
            "94/94 [==============================] - 2s 17ms/step - loss: 0.0567 - accuracy: 0.9801 - val_loss: 0.4732 - val_accuracy: 0.9041\n",
            "Epoch 47/50\n",
            "94/94 [==============================] - 2s 17ms/step - loss: 0.0616 - accuracy: 0.9783 - val_loss: 0.4728 - val_accuracy: 0.9062\n",
            "Epoch 48/50\n",
            "94/94 [==============================] - 2s 17ms/step - loss: 0.0565 - accuracy: 0.9802 - val_loss: 0.4586 - val_accuracy: 0.9083\n",
            "Epoch 49/50\n",
            "94/94 [==============================] - 2s 17ms/step - loss: 0.0553 - accuracy: 0.9808 - val_loss: 0.4782 - val_accuracy: 0.9071\n",
            "Epoch 50/50\n",
            "94/94 [==============================] - 2s 17ms/step - loss: 0.0543 - accuracy: 0.9807 - val_loss: 0.4779 - val_accuracy: 0.9060\n"
          ],
          "name": "stdout"
        },
        {
          "output_type": "execute_result",
          "data": {
            "text/plain": [
              "<tensorflow.python.keras.callbacks.History at 0x7fc35784c278>"
            ]
          },
          "metadata": {
            "tags": []
          },
          "execution_count": 48
        }
      ]
    },
    {
      "cell_type": "markdown",
      "metadata": {
        "id": "jbpzdo39com4"
      },
      "source": [
        "we can use call back to stop the train and al acc at a point when both are close so as to avoid OVERFITTING"
      ]
    },
    {
      "cell_type": "code",
      "metadata": {
        "id": "xKXcIMlYb5JZ",
        "outputId": "fe466430-e087-4048-f644-aa3d089a4418",
        "colab": {
          "base_uri": "https://localhost:8080/",
          "height": 50
        }
      },
      "source": [
        "cnn_model3.evaluate(X_test, y_test)"
      ],
      "execution_count": null,
      "outputs": [
        {
          "output_type": "stream",
          "text": [
            "313/313 [==============================] - 1s 2ms/step - loss: 0.4812 - accuracy: 0.9032\n"
          ],
          "name": "stdout"
        },
        {
          "output_type": "execute_result",
          "data": {
            "text/plain": [
              "[0.48123282194137573, 0.9031999707221985]"
            ]
          },
          "metadata": {
            "tags": []
          },
          "execution_count": 49
        }
      ]
    },
    {
      "cell_type": "markdown",
      "metadata": {
        "id": "2JPv9LIsdAKg"
      },
      "source": [
        "TEST ACCUARCY = 90.32 %  TRAIN ACCURACY = 98.07 %\n",
        "MODEL IS OVERFITTING"
      ]
    },
    {
      "cell_type": "code",
      "metadata": {
        "id": "5d0Atdgic4UY"
      },
      "source": [
        "cnn_model3.save('fashion_mnist_cnn_model3.h5')"
      ],
      "execution_count": null,
      "outputs": []
    },
    {
      "cell_type": "markdown",
      "metadata": {
        "id": "phcrILoveQkB"
      },
      "source": [
        "#cnn model"
      ]
    },
    {
      "cell_type": "code",
      "metadata": {
        "id": "c0TuwUprewTY"
      },
      "source": [
        ""
      ],
      "execution_count": null,
      "outputs": []
    }
  ]
}